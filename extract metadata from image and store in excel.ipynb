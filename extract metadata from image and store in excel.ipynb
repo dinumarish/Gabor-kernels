{
 "cells": [
  {
   "cell_type": "code",
   "execution_count": 119,
   "metadata": {},
   "outputs": [],
   "source": [
    "from PIL import Image\n",
    "from PIL.ExifTags import TAGS\n",
    "import os \n",
    "import pandas as pd"
   ]
  },
  {
   "cell_type": "code",
   "execution_count": 3,
   "metadata": {},
   "outputs": [
    {
     "data": {
      "text/plain": [
       "'C:\\\\Users\\\\user\\\\Downloads\\\\Biographie photos'"
      ]
     },
     "execution_count": 3,
     "metadata": {},
     "output_type": "execute_result"
    }
   ],
   "source": [
    "os.getcwd()"
   ]
  },
  {
   "cell_type": "code",
   "execution_count": 4,
   "metadata": {},
   "outputs": [],
   "source": [
    "im = [i for i in os.listdir() if i.endswith('jpg')]"
   ]
  },
  {
   "cell_type": "code",
   "execution_count": 13,
   "metadata": {},
   "outputs": [],
   "source": [
    "img = [Image.open(name) for name in im]"
   ]
  },
  {
   "cell_type": "code",
   "execution_count": 127,
   "metadata": {},
   "outputs": [
    {
     "data": {
      "text/html": [
       "<div>\n",
       "<style scoped>\n",
       "    .dataframe tbody tr th:only-of-type {\n",
       "        vertical-align: middle;\n",
       "    }\n",
       "\n",
       "    .dataframe tbody tr th {\n",
       "        vertical-align: top;\n",
       "    }\n",
       "\n",
       "    .dataframe thead th {\n",
       "        text-align: right;\n",
       "    }\n",
       "</style>\n",
       "<table border=\"1\" class=\"dataframe\">\n",
       "  <thead>\n",
       "    <tr style=\"text-align: right;\">\n",
       "      <th></th>\n",
       "      <th>file</th>\n",
       "      <th>author</th>\n",
       "      <th>photographer</th>\n",
       "    </tr>\n",
       "  </thead>\n",
       "  <tbody>\n",
       "    <tr>\n",
       "      <th>0</th>\n",
       "      <td>biogas (2).jpg</td>\n",
       "      <td>UniversitÃ¤t Hohenheim Agrarwissenschaften am ...</td>\n",
       "      <td>Wolfram Scheible; Fotograf: Wolfram Scheible</td>\n",
       "    </tr>\n",
       "    <tr>\n",
       "      <th>1</th>\n",
       "      <td>biogas (3).jpg</td>\n",
       "      <td>UniversitÃ¤t Hohenheim Agrarwissenschaften am ...</td>\n",
       "      <td>Wolfram Scheible; Fotograf: Wolfram Scheible</td>\n",
       "    </tr>\n",
       "    <tr>\n",
       "      <th>2</th>\n",
       "      <td>biogas (4).jpg</td>\n",
       "      <td>UniversitÃ¤t Hohenheim Agrarwissenschaften am ...</td>\n",
       "      <td>Wolfram Scheible; Fotograf: Wolfram Scheible</td>\n",
       "    </tr>\n",
       "    <tr>\n",
       "      <th>3</th>\n",
       "      <td>biogas (5).jpg</td>\n",
       "      <td>UniversitÃ¤t Hohenheim Agrarwissenschaften am ...</td>\n",
       "      <td>Wolfram Scheible; Fotograf: Wolfram Scheible</td>\n",
       "    </tr>\n",
       "    <tr>\n",
       "      <th>4</th>\n",
       "      <td>biogas (6).jpg</td>\n",
       "      <td>Stuttgart, 25. oktober 2018, Universitaet Hohe...</td>\n",
       "      <td>DAAD / Focke Strangmann; Fotograf: DAAD / Fock...</td>\n",
       "    </tr>\n",
       "    <tr>\n",
       "      <th>5</th>\n",
       "      <td>food waste (1).jpg</td>\n",
       "      <td>UniversitÃ¤t Hohenheim ErnÃ¤hrungswissenschaft...</td>\n",
       "      <td>Wolfram Scheible; Fotograf: Wolfram Scheible</td>\n",
       "    </tr>\n",
       "    <tr>\n",
       "      <th>6</th>\n",
       "      <td>food waste (2).jpg</td>\n",
       "      <td>UniversitÃ¤t Hohenheim ErnÃ¤hrungswissenschaft...</td>\n",
       "      <td>Wolfram Scheible; Fotograf: Wolfram Scheible</td>\n",
       "    </tr>\n",
       "    <tr>\n",
       "      <th>7</th>\n",
       "      <td>miscanthus  (1).jpg</td>\n",
       "      <td>UniversitÃ¤t Hohenheim Miscanthusfeldern auf d...</td>\n",
       "      <td>Wolfram Scheible; Fotograf: Wolfram Scheible</td>\n",
       "    </tr>\n",
       "    <tr>\n",
       "      <th>8</th>\n",
       "      <td>miscanthus  (2).jpg</td>\n",
       "      <td>UniversitÃ¤t Hohenheim Miscanthusfeldern auf d...</td>\n",
       "      <td>Wolfram Scheible; Fotograf: Wolfram Scheible</td>\n",
       "    </tr>\n",
       "    <tr>\n",
       "      <th>9</th>\n",
       "      <td>miscanthus  (3).jpg</td>\n",
       "      <td>UniversitÃ¤t Hohenheim Miscanthusfeldern auf d...</td>\n",
       "      <td>Wolfram Scheible; Fotograf: Wolfram Scheible</td>\n",
       "    </tr>\n",
       "    <tr>\n",
       "      <th>10</th>\n",
       "      <td>miscanthus  (4).jpg</td>\n",
       "      <td>UniversitÃ¤t Hohenheim Miscanthusfeldern auf d...</td>\n",
       "      <td>Wolfram Scheible; Fotograf: Wolfram Scheible</td>\n",
       "    </tr>\n",
       "    <tr>\n",
       "      <th>11</th>\n",
       "      <td>miscanthus  (5).jpg</td>\n",
       "      <td>UniversitÃ¤t Hohenheim Miscanthusfeldern auf d...</td>\n",
       "      <td>Wolfram Scheible; Fotograf: Wolfram Scheible</td>\n",
       "    </tr>\n",
       "    <tr>\n",
       "      <th>12</th>\n",
       "      <td>miscanthus  (6).jpg</td>\n",
       "      <td>UniversitÃ¤t Hohenheim Miscanthusfeldern auf d...</td>\n",
       "      <td>Wolfram Scheible; Fotograf: Wolfram Scheible</td>\n",
       "    </tr>\n",
       "    <tr>\n",
       "      <th>13</th>\n",
       "      <td>miscanthus  (7).jpg</td>\n",
       "      <td>UniversitÃ¤t Hohenheim Miscanthusfeldern auf d...</td>\n",
       "      <td>Wolfram Scheible; Fotograf: Wolfram Scheible</td>\n",
       "    </tr>\n",
       "  </tbody>\n",
       "</table>\n",
       "</div>"
      ],
      "text/plain": [
       "                   file                                             author  \\\n",
       "0        biogas (2).jpg  UniversitÃ¤t Hohenheim Agrarwissenschaften am ...   \n",
       "1        biogas (3).jpg  UniversitÃ¤t Hohenheim Agrarwissenschaften am ...   \n",
       "2        biogas (4).jpg  UniversitÃ¤t Hohenheim Agrarwissenschaften am ...   \n",
       "3        biogas (5).jpg  UniversitÃ¤t Hohenheim Agrarwissenschaften am ...   \n",
       "4        biogas (6).jpg  Stuttgart, 25. oktober 2018, Universitaet Hohe...   \n",
       "5    food waste (1).jpg  UniversitÃ¤t Hohenheim ErnÃ¤hrungswissenschaft...   \n",
       "6    food waste (2).jpg  UniversitÃ¤t Hohenheim ErnÃ¤hrungswissenschaft...   \n",
       "7   miscanthus  (1).jpg  UniversitÃ¤t Hohenheim Miscanthusfeldern auf d...   \n",
       "8   miscanthus  (2).jpg  UniversitÃ¤t Hohenheim Miscanthusfeldern auf d...   \n",
       "9   miscanthus  (3).jpg  UniversitÃ¤t Hohenheim Miscanthusfeldern auf d...   \n",
       "10  miscanthus  (4).jpg  UniversitÃ¤t Hohenheim Miscanthusfeldern auf d...   \n",
       "11  miscanthus  (5).jpg  UniversitÃ¤t Hohenheim Miscanthusfeldern auf d...   \n",
       "12  miscanthus  (6).jpg  UniversitÃ¤t Hohenheim Miscanthusfeldern auf d...   \n",
       "13  miscanthus  (7).jpg  UniversitÃ¤t Hohenheim Miscanthusfeldern auf d...   \n",
       "\n",
       "                                         photographer  \n",
       "0        Wolfram Scheible; Fotograf: Wolfram Scheible  \n",
       "1        Wolfram Scheible; Fotograf: Wolfram Scheible  \n",
       "2        Wolfram Scheible; Fotograf: Wolfram Scheible  \n",
       "3        Wolfram Scheible; Fotograf: Wolfram Scheible  \n",
       "4   DAAD / Focke Strangmann; Fotograf: DAAD / Fock...  \n",
       "5        Wolfram Scheible; Fotograf: Wolfram Scheible  \n",
       "6        Wolfram Scheible; Fotograf: Wolfram Scheible  \n",
       "7        Wolfram Scheible; Fotograf: Wolfram Scheible  \n",
       "8        Wolfram Scheible; Fotograf: Wolfram Scheible  \n",
       "9        Wolfram Scheible; Fotograf: Wolfram Scheible  \n",
       "10       Wolfram Scheible; Fotograf: Wolfram Scheible  \n",
       "11       Wolfram Scheible; Fotograf: Wolfram Scheible  \n",
       "12       Wolfram Scheible; Fotograf: Wolfram Scheible  \n",
       "13       Wolfram Scheible; Fotograf: Wolfram Scheible  "
      ]
     },
     "execution_count": 127,
     "metadata": {},
     "output_type": "execute_result"
    }
   ],
   "source": [
    "exif = [dict(img[i].getexif()) for i in range(len(img))]\n",
    "\n",
    "df = pd.DataFrame(columns=['file','author','photographer'])\n",
    "for i,j in zip(im,exif):\n",
    "    try:\n",
    "        df= df.append({'file':i,'author':j[270],'photographer':j[315]}, ignore_index=True)\n",
    "        \n",
    "    except : None\n",
    "df"
   ]
  },
  {
   "cell_type": "code",
   "execution_count": 130,
   "metadata": {},
   "outputs": [],
   "source": [
    "df.to_excel('metadata.xls')"
   ]
  },
  {
   "cell_type": "code",
   "execution_count": null,
   "metadata": {},
   "outputs": [],
   "source": []
  }
 ],
 "metadata": {
  "kernelspec": {
   "display_name": "Python 3",
   "language": "python",
   "name": "python3"
  },
  "language_info": {
   "codemirror_mode": {
    "name": "ipython",
    "version": 3
   },
   "file_extension": ".py",
   "mimetype": "text/x-python",
   "name": "python",
   "nbconvert_exporter": "python",
   "pygments_lexer": "ipython3",
   "version": "3.8.5"
  }
 },
 "nbformat": 4,
 "nbformat_minor": 4
}
